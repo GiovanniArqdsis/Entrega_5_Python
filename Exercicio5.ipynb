{
 "cells": [
  {
   "cell_type": "markdown",
   "metadata": {},
   "source": [
    "Crie a classe Linha que tem dois atributos, coordenada1 e coordenada2.\n",
    "Cada coordenada é uma tupla que carrega duas coordenadas cartesianas (x,y) que\n",
    "denotam pontos do segmento de reta. Faça métodos que calculem o comprimento\n",
    "do segmento de reta e sua inclinação."
   ]
  },
  {
   "cell_type": "code",
   "execution_count": 2,
   "metadata": {},
   "outputs": [
    {
     "ename": "SyntaxError",
     "evalue": "invalid syntax (<ipython-input-2-e2e924fd3f1b>, line 1)",
     "output_type": "error",
     "traceback": [
      "\u001b[1;36m  File \u001b[1;32m\"<ipython-input-2-e2e924fd3f1b>\"\u001b[1;36m, line \u001b[1;32m1\u001b[0m\n\u001b[1;33m    class linha\u001b[0m\n\u001b[1;37m               ^\u001b[0m\n\u001b[1;31mSyntaxError\u001b[0m\u001b[1;31m:\u001b[0m invalid syntax\n"
     ]
    }
   ],
   "source": [
    "class linha:\n",
    "self.coordenada1 = (x,y)\n",
    "self.coordenada2 = (x,y)\n",
    "def __comprimento__(self):\n",
    "    "
   ]
  },
  {
   "cell_type": "markdown",
   "metadata": {},
   "source": [
    "Crie a seguinte hierarquia de classes de figuras geométricas.\n",
    "a. A classe Figura deve ter o método area.\n",
    "b. A classe Circulo é subclasse de Figura.\n",
    "c. A classe Poligono é subclasse de Figura e deve ter os atributos base e altura .\n",
    "d. As classes Triangulo, Losango, Retangulo e Quadrado são subclasses de\n",
    "Poligono. Tente criar mais uma generalização aqui .\n",
    "e. Os polígonos Retangulo e Quadrado devem ter um meio de calcular sua\n",
    "diagonal. Use composição para isso.\n",
    "f. Crie uma classe Geometria com uma lista de Figuras com pelo menos uma\n",
    "figura de cada e imprima suas áreas."
   ]
  },
  {
   "cell_type": "code",
   "execution_count": 4,
   "metadata": {},
   "outputs": [
    {
     "ename": "IndentationError",
     "evalue": "expected an indented block (<ipython-input-4-ffbefa084594>, line 2)",
     "output_type": "error",
     "traceback": [
      "\u001b[1;36m  File \u001b[1;32m\"<ipython-input-4-ffbefa084594>\"\u001b[1;36m, line \u001b[1;32m2\u001b[0m\n\u001b[1;33m    self.area = 0\u001b[0m\n\u001b[1;37m       ^\u001b[0m\n\u001b[1;31mIndentationError\u001b[0m\u001b[1;31m:\u001b[0m expected an indented block\n"
     ]
    }
   ],
   "source": [
    "class Figura:\n",
    "self.area = 0\n",
    "    class Circulo:\n",
    "    \n",
    "    class Poligono:\n",
    "    self.base = 0\n",
    "    self.altura = 0\n",
    "    base = int (input (\"Quanto é a base?\")\n",
    "    altura = int (input (\"Quanto é a altura?\")\n",
    "        class Retangulo:\n",
    "            diagonal =  base ** 2 + altura ** 2\n",
    "            print base * altura\n",
    "            print diagonal\n",
    "        class Triangulo:\n",
    "            print (base * altura) / 2\n",
    "        class Losango:\n",
    "            print (base * altura) / 2 \n",
    "        class Quadrado:\n",
    "            diagonal =  base ** 2 + altura ** 2\n",
    "            print base * altura\n",
    "            print diagonal"
   ]
  },
  {
   "cell_type": "markdown",
   "metadata": {},
   "source": [
    "Aqui estão os requisitos:\n",
    "- Você precisa criar um jogo de BlackJack (21) baseado em texto simples\n",
    "- O jogo precisa ter um jogador contra um croupier automatizado.\n",
    "- O jogador pode desistir ou bater.\n",
    "- O jogador deve ser capaz de escolher o seu valor de aposta.\n",
    "- Você precisa acompanhar o dinheiro total do jogador.\n",
    "- Você precisa alertar o jogador de vitórias, derrotas ou estouros, etc ...\n",
    "E o mais importante:\n",
    "Você deve usar OOP e classes em alguma parte do seu jogo. Você não pode\n",
    "simplesmente usar funções no seu jogo. Use classes para ajudá-lo a definir o deck e a\n",
    "mão do jogador. Há muitas maneiras certas de fazer isso, então explore bem!\n"
   ]
  },
  {
   "cell_type": "code",
   "execution_count": null,
   "metadata": {},
   "outputs": [],
   "source": []
  }
 ],
 "metadata": {
  "kernelspec": {
   "display_name": "Python 3",
   "language": "python",
   "name": "python3"
  },
  "language_info": {
   "codemirror_mode": {
    "name": "ipython",
    "version": 3
   },
   "file_extension": ".py",
   "mimetype": "text/x-python",
   "name": "python",
   "nbconvert_exporter": "python",
   "pygments_lexer": "ipython3",
   "version": "3.7.1"
  }
 },
 "nbformat": 4,
 "nbformat_minor": 2
}
